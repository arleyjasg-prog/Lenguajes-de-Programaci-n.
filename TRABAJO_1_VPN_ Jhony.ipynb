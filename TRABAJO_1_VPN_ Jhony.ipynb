{
  "nbformat": 4,
  "nbformat_minor": 0,
  "metadata": {
    "colab": {
      "provenance": []
    },
    "kernelspec": {
      "name": "python3",
      "display_name": "Python 3"
    },
    "language_info": {
      "name": "python"
    }
  },
  "cells": [
    {
      "cell_type": "markdown",
      "source": [
        "# **Valor Presente Neto**\n",
        "\n",
        "El Valor Presente Neto (VPN), también conocido como Valor Actual Neto (VAN), es un método de evaluación financiera que calcula la diferencia entre el valor actual de los flujos de efectivo futuros esperados de un proyecto y la inversión inicial. Este indicador considera el valor del dinero en el tiempo, descontando los flujos futuros a una tasa de interés específica para determinar si la inversión generará ganancias (VPN positivo) o pérdidas (VPN negativo) en términos actuales.**texto en negrita**\n",
        "\n",
        "\n",
        "## **Fómula del valor Presente Neto (VPN)**\n",
        "\n",
        "\n",
        "La fórmula de VPN se expresa de la siguiente manera:\n",
        "\n",
        "\\[\n",
        "$$\n",
        "VPN = \\sum_{t=0}^{n} \\frac{c_t}{(1+r)^t} - C_0\n",
        "$$\n",
        "\n",
        "\\]\n",
        "\n",
        "Donde:\n",
        "- \\(C_t\\) es el flujo de caja en el tiempo \\(t\\).\n",
        "- \\(r\\) es la tasa de descuento.\n",
        "- \\(n\\) es el número total de periodos.\n",
        "- \\(C_0\\) es la inversión inicial.\n",
        "\n",
        "### **Interpretación**\n",
        "\n",
        "- Si \\(VPN > 0\\), la inversión es rentable.\n",
        "- Si \\(VPN < 0\\), la inversión no es rentable.\n",
        "- Si \\(VPN = 0\\), la inversión no genera ni pérdidas ni ganancias\n",
        "\n",
        "### *Enlace útil*\n",
        "\n",
        "Para obtener más información sobre el Valor Presente Neto, puedes consultar el siguiente [enlace](https://blog.hubspot.es/sales/que-es-valor-presente-neto).\n",
        "\n",
        "\n"
      ],
      "metadata": {
        "id": "z45bDjea2Qll"
      }
    },
    {
      "cell_type": "markdown",
      "source": [
        "\\[\n",
        "$$\n",
        "VPN = \\sum_{t=0}^{n} \\frac{c_t}{(1+r)^t} - C_0\n",
        "$$\n",
        "\n",
        "\\]"
      ],
      "metadata": {
        "id": "dm4arvjU3ct0"
      }
    },
    {
      "cell_type": "code",
      "source": [
        "inversion_inicial =10000\n",
        "flujo_ano_1 = 50000\n",
        "flujo_ano_2 = 50000\n",
        "flujo_ano_3 = 50000\n",
        "\n",
        "tasa_descuento = 0.2"
      ],
      "metadata": {
        "id": "lfkKbAFB5CWo"
      },
      "execution_count": 1,
      "outputs": []
    },
    {
      "cell_type": "code",
      "source": [
        "vpn = (flujo_ano_1 / (1 + tasa_descuento)**1) + \\\n",
        "      (flujo_ano_2 / (1 + tasa_descuento)**2) + \\\n",
        "      (flujo_ano_3 / (1 + tasa_descuento)**3) - inversion_inicial\n",
        "\n",
        "print(\"El Valor Presente Neto (VPN) es:\", vpn)"
      ],
      "metadata": {
        "colab": {
          "base_uri": "https://localhost:8080/"
        },
        "id": "crYSZxPg5wRR",
        "outputId": "e28b709f-1864-4c58-dfcd-e28027bbd860"
      },
      "execution_count": 2,
      "outputs": [
        {
          "output_type": "stream",
          "name": "stdout",
          "text": [
            "El Valor Presente Neto (VPN) es: 95324.0740740741\n"
          ]
        }
      ]
    },
    {
      "cell_type": "code",
      "source": [
        "if vpn > 0:\n",
        "  print(\"El proyecto es viable, ya que el VPN es positivo.\")\n",
        "else:\n",
        "  print(\"El proyecto no es viable, ya que el VPN es negativo.\")"
      ],
      "metadata": {
        "colab": {
          "base_uri": "https://localhost:8080/"
        },
        "id": "65Zb6uNU8B2l",
        "outputId": "88b45cc8-9183-49d2-b542-7abf65cfdcf4"
      },
      "execution_count": 3,
      "outputs": [
        {
          "output_type": "stream",
          "name": "stdout",
          "text": [
            "El proyecto es viable, ya que el VPN es positivo.\n"
          ]
        }
      ]
    }
  ]
}